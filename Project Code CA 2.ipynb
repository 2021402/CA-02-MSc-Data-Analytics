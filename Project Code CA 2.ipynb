{
 "cells": [
  {
   "cell_type": "markdown",
   "id": "fe3c377b",
   "metadata": {},
   "source": [
    "### Importing Libraries"
   ]
  },
  {
   "cell_type": "code",
   "execution_count": 1,
   "id": "f5a7488b",
   "metadata": {},
   "outputs": [],
   "source": [
    "import numpy as np\n",
    "import pandas as pd\n",
    "import matplotlib.pyplot as plt\n",
    "import scipy.stats as sp\n",
    "import seaborn as sns\n",
    "from sklearn.model_selection import train_test_split, GridSearchCV\n",
    "from sklearn.linear_model import LinearRegression\n",
    "from sklearn.ensemble import RandomForestRegressor\n",
    "from sklearn.svm import SVR\n",
    "from sklearn.metrics import mean_squared_error, r2_score"
   ]
  },
  {
   "cell_type": "markdown",
   "id": "b84ca435",
   "metadata": {},
   "source": [
    "#### First of all, we clean and prepare data for further analysis. In the following, we clean data for Ireland's dataset."
   ]
  },
  {
   "cell_type": "code",
   "execution_count": 2,
   "id": "2445b706",
   "metadata": {},
   "outputs": [],
   "source": [
    "file_path = r'C:\\Users\\Muham\\OneDrive\\Desktop\\CA 02\\ireland.csv'\n",
    "ireland_df = pd.read_csv(file_path, delimiter='\\t')"
   ]
  },
  {
   "cell_type": "code",
   "execution_count": 3,
   "id": "042d19bc",
   "metadata": {},
   "outputs": [
    {
     "name": "stdout",
     "output_type": "stream",
     "text": [
      "Ireland Dataset Info:\n",
      "<class 'pandas.core.frame.DataFrame'>\n",
      "RangeIndex: 120 entries, 0 to 119\n",
      "Data columns (total 8 columns):\n",
      " #   Column           Non-Null Count  Dtype \n",
      "---  ------           --------------  ----- \n",
      " 0   STATISTIC        120 non-null    object\n",
      " 1   Statistic Label  120 non-null    object\n",
      " 2   TLIST(A1)        120 non-null    int64 \n",
      " 3   Year             120 non-null    int64 \n",
      " 4   C02639V03196     120 non-null    object\n",
      " 5   Days of Week     120 non-null    object\n",
      " 6   UNIT             120 non-null    object\n",
      " 7   VALUE            120 non-null    int64 \n",
      "dtypes: int64(3), object(5)\n",
      "memory usage: 7.6+ KB\n",
      "None\n"
     ]
    }
   ],
   "source": [
    "print(\"Ireland Dataset Info:\")\n",
    "print(ireland_df.info())"
   ]
  },
  {
   "cell_type": "code",
   "execution_count": 4,
   "id": "2c377be3",
   "metadata": {},
   "outputs": [
    {
     "data": {
      "text/plain": [
       "Index(['STATISTIC', 'Statistic Label', 'TLIST(A1)', 'Year', 'C02639V03196',\n",
       "       'Days of Week', 'UNIT', 'VALUE'],\n",
       "      dtype='object')"
      ]
     },
     "execution_count": 4,
     "metadata": {},
     "output_type": "execute_result"
    }
   ],
   "source": [
    "ireland_df.columns"
   ]
  },
  {
   "cell_type": "code",
   "execution_count": 5,
   "id": "16288c11",
   "metadata": {},
   "outputs": [
    {
     "name": "stdout",
     "output_type": "stream",
     "text": [
      "  STATISTIC        Statistic Label  TLIST(A1)  Year C02639V03196 Days of Week  \\\n",
      "0  TOA02C01  Average Red Line Flow       2018  2018            -     All days   \n",
      "1  TOA02C01  Average Red Line Flow       2018  2018            1       Sunday   \n",
      "2  TOA02C01  Average Red Line Flow       2018  2018            2       Monday   \n",
      "3  TOA02C01  Average Red Line Flow       2018  2018            3      Tuesday   \n",
      "4  TOA02C01  Average Red Line Flow       2018  2018            4    Wednesday   \n",
      "\n",
      "     UNIT   VALUE  \n",
      "0  Number  419947  \n",
      "1  Number   34860  \n",
      "2  Number   60673  \n",
      "3  Number   65632  \n",
      "4  Number   67364  \n"
     ]
    }
   ],
   "source": [
    "print(ireland_df.head())"
   ]
  },
  {
   "cell_type": "code",
   "execution_count": 6,
   "id": "46b906fb",
   "metadata": {},
   "outputs": [
    {
     "name": "stdout",
     "output_type": "stream",
     "text": [
      "\n",
      "Cleaned Ireland Dataset:\n"
     ]
    }
   ],
   "source": [
    "ireland_df = ireland_df.dropna()\n",
    "ireland_df = ireland_df.drop_duplicates()\n",
    "ireland_df.columns = ['STATISTIC', 'Statistic Label', 'TLIST(A1)', 'Year', 'C02639V03196', 'Days of Week', 'UNIT', 'VALUE']\n",
    "ireland_df['Year'] = pd.to_numeric(ireland_df['Year'], errors='coerce')\n",
    "ireland_df['VALUE'] = pd.to_numeric(ireland_df['VALUE'], errors='coerce')\n",
    "print(\"\\nCleaned Ireland Dataset:\")\n",
    "ireland_df.to_csv(r'C:\\Users\\Muham\\OneDrive\\Desktop\\CA 02\\cleaned_ireland.csv', index=False)"
   ]
  },
  {
   "cell_type": "markdown",
   "id": "0dea6899",
   "metadata": {},
   "source": [
    "#### The following code shows the cleaning process for Australia's dataset."
   ]
  },
  {
   "cell_type": "code",
   "execution_count": 7,
   "id": "5468ff4c",
   "metadata": {},
   "outputs": [],
   "source": [
    "file_path = r'C:\\Users\\Muham\\OneDrive\\Desktop\\CA 02\\australia.csv'"
   ]
  },
  {
   "cell_type": "code",
   "execution_count": 8,
   "id": "e99b7357",
   "metadata": {},
   "outputs": [],
   "source": [
    "column_dtype = {'TripID': str}"
   ]
  },
  {
   "cell_type": "code",
   "execution_count": 9,
   "id": "b7af9583",
   "metadata": {},
   "outputs": [
    {
     "name": "stdout",
     "output_type": "stream",
     "text": [
      "Original Australia Dataset Info:\n",
      "<class 'pandas.core.frame.DataFrame'>\n",
      "RangeIndex: 1048575 entries, 0 to 1048574\n",
      "Data columns (total 6 columns):\n",
      " #   Column             Non-Null Count    Dtype \n",
      "---  ------             --------------    ----- \n",
      " 0   TripID             1048575 non-null  object\n",
      " 1   RouteID            1048575 non-null  object\n",
      " 2   StopID             1048575 non-null  int64 \n",
      " 3   StopName           1048575 non-null  object\n",
      " 4   WeekBeginning      1048575 non-null  object\n",
      " 5   NumberOfBoardings  1048575 non-null  int64 \n",
      "dtypes: int64(2), object(4)\n",
      "memory usage: 48.0+ MB\n",
      "None\n"
     ]
    }
   ],
   "source": [
    "# Specify dtype and low_memory parameters to address DtypeWarning\n",
    "aus_df = pd.read_csv(file_path,  dtype = column_dtype, low_memory=False)\n",
    "print(\"Original Australia Dataset Info:\")\n",
    "print(aus_df.info())"
   ]
  },
  {
   "cell_type": "code",
   "execution_count": 10,
   "id": "f998f938",
   "metadata": {},
   "outputs": [],
   "source": [
    "aus_df['WeekBeginning'] = pd.to_datetime(aus_df['WeekBeginning'], errors='coerce')\n",
    "aus_df = aus_df.dropna()\n",
    "aus_df = aus_df.drop_duplicates()"
   ]
  },
  {
   "cell_type": "code",
   "execution_count": 11,
   "id": "43821714",
   "metadata": {},
   "outputs": [
    {
     "name": "stdout",
     "output_type": "stream",
     "text": [
      "\n",
      "Cleaned Australia Dataset:\n",
      "  TripID RouteID  StopID                    StopName WeekBeginning  \\\n",
      "0  23631     100   14156                181 Cross Rd    2013-06-30   \n",
      "1  23631     100   14144                177 Cross Rd    2013-06-30   \n",
      "2  23632     100   14132                175 Cross Rd    2013-06-30   \n",
      "3  23633     100   12266  Zone A Arndale Interchange    2013-06-30   \n",
      "4  23633     100   14147                178 Cross Rd    2013-06-30   \n",
      "\n",
      "   NumberOfBoardings  \n",
      "0                  1  \n",
      "1                  1  \n",
      "2                  1  \n",
      "3                  2  \n",
      "4                  1  \n"
     ]
    }
   ],
   "source": [
    "print(\"\\nCleaned Australia Dataset:\")\n",
    "print(aus_df.head())"
   ]
  },
  {
   "cell_type": "code",
   "execution_count": 12,
   "id": "b42bc68a",
   "metadata": {},
   "outputs": [
    {
     "name": "stdout",
     "output_type": "stream",
     "text": [
      "\n",
      "Cleaned dataset saved to: C:\\Users\\Muham\\OneDrive\\Desktop\\CA 02\\cleaned_australia.csv\n"
     ]
    }
   ],
   "source": [
    "cleaned_file_path = r'C:\\Users\\Muham\\OneDrive\\Desktop\\CA 02\\cleaned_australia.csv'\n",
    "aus_df.to_csv(cleaned_file_path, index=False)\n",
    "print(f\"\\nCleaned dataset saved to: {cleaned_file_path}\")"
   ]
  }
 ],
 "metadata": {
  "kernelspec": {
   "display_name": "Python 3 (ipykernel)",
   "language": "python",
   "name": "python3"
  },
  "language_info": {
   "codemirror_mode": {
    "name": "ipython",
    "version": 3
   },
   "file_extension": ".py",
   "mimetype": "text/x-python",
   "name": "python",
   "nbconvert_exporter": "python",
   "pygments_lexer": "ipython3",
   "version": "3.11.4"
  }
 },
 "nbformat": 4,
 "nbformat_minor": 5
}
